{
  "nbformat": 4,
  "nbformat_minor": 0,
  "metadata": {
    "colab": {
      "provenance": [],
      "authorship_tag": "ABX9TyMd36wOXuCytCSQpPVTz9RG",
      "include_colab_link": true
    },
    "kernelspec": {
      "name": "python3",
      "display_name": "Python 3"
    },
    "language_info": {
      "name": "python"
    }
  },
  "cells": [
    {
      "cell_type": "markdown",
      "metadata": {
        "id": "view-in-github",
        "colab_type": "text"
      },
      "source": [
        "<a href=\"https://colab.research.google.com/github/tejassssssss/student_report_card_manager/blob/main/Student_Report_Colab.ipynb\" target=\"_parent\"><img src=\"https://colab.research.google.com/assets/colab-badge.svg\" alt=\"Open In Colab\"/></a>"
      ]
    },
    {
      "cell_type": "code",
      "execution_count": null,
      "metadata": {
        "colab": {
          "base_uri": "https://localhost:8080/"
        },
        "id": "hHdccXl5Bi7A",
        "outputId": "9cc2dd50-da5d-47d9-b843-9994e5699dde"
      },
      "outputs": [
        {
          "output_type": "stream",
          "name": "stdout",
          "text": [
            "Cloning into 'student_report_card_manager'...\n",
            "remote: Enumerating objects: 21, done.\u001b[K\n",
            "remote: Counting objects: 100% (21/21), done.\u001b[K\n",
            "remote: Compressing objects: 100% (16/16), done.\u001b[K\n",
            "remote: Total 21 (delta 6), reused 17 (delta 5), pack-reused 0 (from 0)\u001b[K\n",
            "Receiving objects: 100% (21/21), 7.05 KiB | 3.53 MiB/s, done.\n",
            "Resolving deltas: 100% (6/6), done.\n",
            "/content/student_report_card_manager\n",
            "\n",
            "Welcome to Student Report Card Manager\n",
            "\n",
            "Choose an option:\n",
            "1. Add Student\n",
            "2. Update Score\n",
            "3. View Reports\n",
            "4. Delete Student\n",
            "5. Save & Exit\n",
            "Enter choice (1–5): "
          ]
        }
      ],
      "source": [
        "# Clone the repo from GitHub\n",
        "!git clone https://github.com/tejassssssss/student_report_card_manager.git\n",
        "%cd student_report_card_manager\n",
        "\n",
        "# Optional: Run main.py to test\n",
        "!python3 main.py\n"
      ]
    }
  ]
}